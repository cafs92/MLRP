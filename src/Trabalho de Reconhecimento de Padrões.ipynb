{
 "cells": [
  {
   "cell_type": "markdown",
   "metadata": {},
   "source": [
    "<h1 style=\"text-align:center\">Reconhecimento de Padrões</h1>\n",
    "\n",
    "<p><b>Resumo</b>: Em <i>Machine Learning</i>, existem categorias em relação ao tipo do problema a ser resolvido. Neste trabalho será utilizado apenas dois, o de Regressão e de Classificação. A primeira parte deste trabalho será para analisar os modelos de Classificação e determinar qual deles tem o melhor desempenho em relação a acurácia para a base de dados (nome da bd), a saber, os modelos serão:</p>\n",
    "    <ul>\n",
    "        <li><b>Naivy Bayes</b></li>\n",
    "        <li><b>Regressão Logística</b></li>\n",
    "        <li><b>Kernel SVM</b></li>\n",
    "        <li><b>SVM Linear</b></li>\n",
    "    </ul>\n",
    "\n",
    "<p>A segunda parte do projeto é analisar qual modelo de Regressão mais se aproxima gráficamente da função original. Os modelos que serão utilizados são:</p>\n",
    "    <ul>\n",
    "        <li><b>Regressão Linear</b></li>\n",
    "        <li><b>Regressão Linear com Kernel RBF</b></li>\n",
    "    </ul>"
   ]
  },
  {
   "cell_type": "markdown",
   "metadata": {},
   "source": [
    "<h3 style=\"text-align:center;\">Parte 1 - Preparando dados para serem treinados</h3>"
   ]
  },
  {
   "cell_type": "code",
   "execution_count": 1,
   "metadata": {
    "pycharm": {
     "is_executing": false
    }
   },
   "outputs": [
    {
     "traceback": [
      "\u001b[1;31m---------------------------------------------------------------------------\u001b[0m",
      "\u001b[1;31mImportError\u001b[0m                               Traceback (most recent call last)",
      "\u001b[1;32m<ipython-input-1-4af846eb7abb>\u001b[0m in \u001b[0;36m<module>\u001b[1;34m\u001b[0m\n\u001b[1;32m----> 1\u001b[1;33m \u001b[1;32mfrom\u001b[0m \u001b[0mcvxopt\u001b[0m \u001b[1;32mimport\u001b[0m \u001b[0mmatrix\u001b[0m\u001b[1;33m\u001b[0m\u001b[1;33m\u001b[0m\u001b[0m\n\u001b[0m\u001b[0;32m      2\u001b[0m \u001b[1;32mfrom\u001b[0m \u001b[0mcvxopt\u001b[0m \u001b[1;32mimport\u001b[0m \u001b[0mspmatrix\u001b[0m\u001b[1;33m\u001b[0m\u001b[1;33m\u001b[0m\u001b[0m\n\u001b[0;32m      3\u001b[0m \u001b[1;32mfrom\u001b[0m \u001b[0mcvxopt\u001b[0m\u001b[1;33m.\u001b[0m\u001b[0msolvers\u001b[0m \u001b[1;32mimport\u001b[0m \u001b[0mqp\u001b[0m\u001b[1;33m\u001b[0m\u001b[1;33m\u001b[0m\u001b[0m\n\u001b[0;32m      4\u001b[0m \u001b[1;32mfrom\u001b[0m \u001b[0mcvxopt\u001b[0m \u001b[1;32mimport\u001b[0m \u001b[0msolvers\u001b[0m\u001b[1;33m\u001b[0m\u001b[1;33m\u001b[0m\u001b[0m\n\u001b[0;32m      5\u001b[0m \u001b[1;33m\u001b[0m\u001b[0m\n",
      "\u001b[1;32mc:\\users\\anderson\\pycharmprojects\\svmxsp\\venv\\lib\\site-packages\\cvxopt\\__init__.py\u001b[0m in \u001b[0;36m<module>\u001b[1;34m\u001b[0m\n\u001b[0;32m     48\u001b[0m along with this program.  If not, see <http://www.gnu.org/licenses/>.\"\"\"\n\u001b[0;32m     49\u001b[0m \u001b[1;33m\u001b[0m\u001b[0m\n\u001b[1;32m---> 50\u001b[1;33m \u001b[1;32mimport\u001b[0m \u001b[0mcvxopt\u001b[0m\u001b[1;33m.\u001b[0m\u001b[0mbase\u001b[0m\u001b[1;33m\u001b[0m\u001b[1;33m\u001b[0m\u001b[0m\n\u001b[0m\u001b[0;32m     51\u001b[0m \u001b[1;33m\u001b[0m\u001b[0m\n\u001b[0;32m     52\u001b[0m \u001b[1;32mdef\u001b[0m \u001b[0mcopyright\u001b[0m\u001b[1;33m(\u001b[0m\u001b[1;33m)\u001b[0m\u001b[1;33m:\u001b[0m\u001b[1;33m\u001b[0m\u001b[1;33m\u001b[0m\u001b[0m\n",
      "\u001b[1;31mImportError\u001b[0m: DLL load failed: Não foi possível encontrar o módulo especificado."
     ],
     "ename": "ImportError",
     "evalue": "DLL load failed: Não foi possível encontrar o módulo especificado.",
     "output_type": "error"
    }
   ],
   "source": [
    "from cvxopt import matrix\n",
    "from cvxopt import spmatrix\n",
    "from cvxopt.solvers import qp \n",
    "from cvxopt import solvers\n",
    "\n",
    "import numpy as np\n",
    "import pandas as pd\n",
    "import matplotlib.pyplot as plt\n",
    "import math\n",
    "import time"
   ]
  },
  {
   "cell_type": "code",
   "execution_count": null,
   "metadata": {
    "pycharm": {
     "is_executing": false
    }
   },
   "outputs": [],
   "source": [
    "solvers.options[\"show_progress\"] = False"
   ]
  },
  {
   "cell_type": "markdown",
   "metadata": {},
   "source": [
    "<h5>Métodos auxiliares</h5>"
   ]
  },
  {
   "cell_type": "code",
   "execution_count": null,
   "metadata": {
    "pycharm": {
     "is_executing": false
    }
   },
   "outputs": [],
   "source": [
    "def class_encode(specie,column,values_y):\n",
    "    if column in specie:\n",
    "        return values_y[1]\n",
    "    else:\n",
    "        return values_y[0]"
   ]
  },
  {
   "cell_type": "code",
   "execution_count": null,
   "metadata": {
    "pycharm": {
     "is_executing": false
    }
   },
   "outputs": [],
   "source": [
    "def normalize(data):\n",
    "    for col in data.columns:\n",
    "        min = np.min(data[col])\n",
    "        max = np.max(data[col])\n",
    "        data[col] = [(data.at[i,col] - min)/(max-min)\n",
    "                        for i in range(len(data))]\n",
    "    return data\n"
   ]
  },
  {
   "cell_type": "code",
   "execution_count": null,
   "metadata": {
    "pycharm": {
     "is_executing": false
    }
   },
   "outputs": [],
   "source": [
    "def train_test(data, class_d):\n",
    "    train_x, test_x = _split_data_(data)\n",
    "    train_d = class_d.iloc[train_x.index]\n",
    "    test_d = class_d.drop(train_d.index)\n",
    "    return train_x,test_x,train_d,test_d\n",
    "\n",
    "def _split_data_(data):\n",
    "    index_random = _random_index_(data,0.8)\n",
    "    return data.loc[index_random],data.drop(index_random)\n",
    "\n",
    "def _random_index_(data,count):\n",
    "    random_count = int(len(data) * count)\n",
    "    return np.random.choice(data.index,random_count,replace = False)\n"
   ]
  },
  {
   "cell_type": "code",
   "execution_count": null,
   "metadata": {
    "pycharm": {
     "is_executing": false
    }
   },
   "outputs": [],
   "source": [
    "def metrics(modelo, num_realizacoes, db, class_db, specie, list_y):\n",
    "    inicio_tempo = time.time()\n",
    "    species = class_db.apply(class_encode,column=specie,values_y=list_y)\n",
    "    lista_acuracia = []\n",
    "    for realizacao in range(num_realizacoes):\n",
    "        train_x, test_x, train_y, test_y = train_test(db, species)\n",
    "        modelo.train(train_x,train_y)\n",
    "        list_y = [modelo.predict(list(linha)) for indice, linha in test_x.iterrows()]\n",
    "        lista_acuracia += [np.mean(list_y == test_y)]\n",
    "    print(\"Toda o processo durou: {:.3f}s\".format(time.time() - inicio_tempo))\n",
    "    return np.mean(lista_acuracia)"
   ]
  },
  {
   "cell_type": "code",
   "execution_count": null,
   "metadata": {
    "pycharm": {
     "is_executing": false
    }
   },
   "outputs": [],
   "source": [
    "def test_model(modelo, db, class_db, specie, list_y):\n",
    "    species = class_db.apply(class_encode,column=specie,values_y=list_y)\n",
    "    train_x, test_x, train_y, test_y = train_test(db, species)\n",
    "    modelo.train(train_x,train_y)\n",
    "    teste_1 = modelo.predict(db.loc[0])\n",
    "    teste_2 = modelo.predict(db.loc[51])\n",
    "    teste_3 = modelo.predict(db.loc[100])\n",
    "    return \"valor da setosa = {}, valor da versicolor = {}, valor da virginica = {}\".format(teste_1,teste_2,teste_3)"
   ]
  },
  {
   "cell_type": "markdown",
   "metadata": {},
   "source": [
    "<h5>Obtendo os dados</h5>"
   ]
  },
  {
   "cell_type": "code",
   "execution_count": null,
   "metadata": {
    "pycharm": {
     "is_executing": false
    }
   },
   "outputs": [],
   "source": [
    "iris_db = pd.read_csv(\"iris.csv\")\n",
    "iris_db.head()"
   ]
  },
  {
   "cell_type": "markdown",
   "metadata": {},
   "source": [
    "<h5>Pré-processamento dos dados</h5>"
   ]
  },
  {
   "cell_type": "code",
   "execution_count": null,
   "metadata": {
    "pycharm": {
     "is_executing": false
    }
   },
   "outputs": [],
   "source": [
    "species = iris_db.species\n",
    "iris_db = iris_db.drop(['species'],axis=1)"
   ]
  },
  {
   "cell_type": "code",
   "execution_count": null,
   "metadata": {
    "pycharm": {
     "is_executing": false
    }
   },
   "outputs": [],
   "source": [
    "iris_db.head()"
   ]
  },
  {
   "cell_type": "code",
   "execution_count": null,
   "metadata": {
    "pycharm": {
     "is_executing": false
    }
   },
   "outputs": [],
   "source": [
    "species.head()"
   ]
  },
  {
   "cell_type": "code",
   "execution_count": null,
   "metadata": {
    "pycharm": {
     "is_executing": false
    }
   },
   "outputs": [],
   "source": [
    "iris_db = normalize(iris_db)\n",
    "iris_db"
   ]
  },
  {
   "cell_type": "markdown",
   "metadata": {},
   "source": [
    "<h3 style=\"text-align:center\">Modelos de Classificação</h3>\n",
    "<h5>Naivy Bayes</h5>\n",
    "<p>O primeiro modelo de Classificação que será analisado é o Naivy Bayes. A seguir está a sua implementação:</p>"
   ]
  },
  {
   "cell_type": "code",
   "execution_count": null,
   "metadata": {
    "pycharm": {
     "is_executing": false
    }
   },
   "outputs": [],
   "source": [
    "class NaivyBayesGaussian:\n",
    "    __slots__ = ['probabilidade_y','lista_desvio_padrao','lista_media']\n",
    "    \n",
    "    def __init__(self):\n",
    "        self.probabilidade_y = [0,0]\n",
    "        self.lista_desvio_padrao = []\n",
    "        self.lista_media = []        \n",
    "            \n",
    "    def train(self, db, class_db):\n",
    "        self.lista_desvio_padrao = np.zeros((2, db.shape[1]))\n",
    "        self.lista_media = np.zeros((2, db.shape[1]))\n",
    "        \n",
    "        for y in range(2):\n",
    "            self.probabilidade_y[y] = len(class_db.loc[class_db == y])\n",
    "            index_db = class_db.loc[class_db == y].index\n",
    "            for num_column in range(len(db.columns)):\n",
    "                column = db.columns[num_column]\n",
    "                self.lista_desvio_padrao[y][num_column] = np.std(db[column].loc[index_db])\n",
    "                self.lista_media[y][num_column] = np.mean(db[column].loc[index_db])        \n",
    "       \n",
    "    def probabildade_x_y(self,x, y):\n",
    "        resultado = 1\n",
    "        for num_column in range(len(x)):\n",
    "            std = self.lista_desvio_padrao[y][num_column]\n",
    "            mean = self.lista_media[y][num_column]\n",
    "            resultado *= ((1/(math.sqrt(2*math.pi)*std))*(math.exp((-(x[num_column]-mean)**2)/(2*(std**2)))))\n",
    "        return resultado\n",
    "    \n",
    "    def arg_max(self,lista_probabilidades):\n",
    "        for i in range(len(lista_probabilidades)):\n",
    "            if lista_probabilidades[i] == np.max(lista_probabilidades):\n",
    "                return i\n",
    "    \n",
    "    def predict(self,x):\n",
    "        lista_probabilidades = []\n",
    "        for y in range(len(self.probabilidade_y)):\n",
    "            lista_probabilidades += [self.probabilidade_y[y] * self.probabildade_x_y(x,y)]\n",
    "        return self.arg_max(lista_probabilidades)"
   ]
  },
  {
   "cell_type": "code",
   "execution_count": null,
   "metadata": {
    "pycharm": {
     "is_executing": false
    }
   },
   "outputs": [],
   "source": [
    "naivy = NaivyBayesGaussian()"
   ]
  },
  {
   "cell_type": "code",
   "execution_count": null,
   "metadata": {
    "scrolled": true,
    "pycharm": {
     "is_executing": false
    }
   },
   "outputs": [],
   "source": [
    "test_model(naivy, iris_db, species, \"virginica\", [0,1])"
   ]
  },
  {
   "cell_type": "code",
   "execution_count": null,
   "metadata": {
    "pycharm": {
     "is_executing": false
    }
   },
   "outputs": [],
   "source": [
    "metrics(naivy, 20, iris_db, species, \"setosa\", [0,1])"
   ]
  },
  {
   "cell_type": "markdown",
   "metadata": {},
   "source": [
    "<h5>Regressão Logistica</h5>"
   ]
  },
  {
   "cell_type": "code",
   "execution_count": null,
   "metadata": {
    "pycharm": {
     "is_executing": false
    }
   },
   "outputs": [],
   "source": [
    "class RegressaoLogistica:\n",
    "    _slots__ = ['w']\n",
    "    \n",
    "    def __init__(self):\n",
    "        self.w = []\n",
    "    \n",
    "    def train(self, db, class_db, epocas=100, taxa_de_aprendizagem=0.001):\n",
    "        self.w = np.zeros((1, db.shape[1] + 1))\n",
    "        \n",
    "        for epoca in range(epocas):\n",
    "            gradiente = np.zeros((1, db.shape[1] + 1))\n",
    "            for indice, linha in db.iterrows():\n",
    "                x = np.array(list(linha) + [-1])\n",
    "                y = class_db.loc[indice]\n",
    "                gradiente += ((y*x)/(1+np.exp(y * np.dot(x, self.w.T))))\n",
    "            valor_w_antigo = self.w\n",
    "            self.w += taxa_de_aprendizagem*gradiente \n",
    "    \n",
    "    def arg_max(self, probabilidade_menos_1, probabilidade_1):\n",
    "        return -1 if probabilidade_menos_1 > probabilidade_1 else 1\n",
    "            \n",
    "    def predict(self, linha):\n",
    "        x = np.array(list(linha) + [-1])\n",
    "        \n",
    "        probabilidade_menos_1 = (1/(1+np.exp(np.dot(x, self.w.T))))\n",
    "        probabilidade_1 = (1/(1+np.exp(-np.dot(x, self.w.T))))\n",
    "        return self.arg_max(probabilidade_menos_1,probabilidade_1)\n",
    "        "
   ]
  },
  {
   "cell_type": "code",
   "execution_count": null,
   "metadata": {
    "pycharm": {
     "is_executing": false
    }
   },
   "outputs": [],
   "source": [
    "rg = RegressaoLogistica()"
   ]
  },
  {
   "cell_type": "code",
   "execution_count": null,
   "metadata": {
    "pycharm": {
     "is_executing": false
    }
   },
   "outputs": [],
   "source": [
    "test_model(rg,iris_db,species, \"setosa\", [-1,1])"
   ]
  },
  {
   "cell_type": "code",
   "execution_count": null,
   "metadata": {
    "pycharm": {
     "is_executing": false
    }
   },
   "outputs": [],
   "source": [
    "metrics(rg, 20, iris_db, species, \"setosa\", [-1,1])"
   ]
  },
  {
   "cell_type": "markdown",
   "metadata": {},
   "source": [
    "<h5>SVM Linear</h5"
   ]
  },
  {
   "cell_type": "code",
   "execution_count": null,
   "metadata": {
    "pycharm": {
     "is_executing": false
    }
   },
   "outputs": [],
   "source": [
    "class SVMLinear:\n",
    "    __slots__ = ['w','p','q','g','h']\n",
    "    \n",
    "    def __init__(self):\n",
    "        self.w = []\n",
    "        self.p = []\n",
    "        self.q = []\n",
    "        self.g = []\n",
    "        self.h = []\n",
    "        \n",
    "    def initParams(self, db, class_db):\n",
    "        self.w = []\n",
    "        \n",
    "        matriz_identidade = np.identity(db.shape[1])\n",
    "        DIMENSAO = db.shape[0] + db.shape[1] + 1 \n",
    "        matriz_p = np.zeros((DIMENSAO, DIMENSAO))\n",
    "        matriz_p[:matriz_identidade.shape[0], :matriz_identidade.shape[1]] = matriz_identidade + matriz_p[:matriz_identidade.shape[0], :matriz_identidade.shape[1]]\n",
    "        self.p = matrix(matriz_p, tc=\"d\")\n",
    "        \n",
    "        matriz_aux_q = np.ones((db.shape[0],1))\n",
    "        matriz_q = np.zeros((DIMENSAO,1))\n",
    "        matriz_q[db.shape[1] + 1:,:] = matriz_aux_q + matriz_q[db.shape[1] + 1:,:]\n",
    "        self.q = matrix(matriz_q)\n",
    "        \n",
    "        dados_com_classes = db.join(class_db)\n",
    "        lista_g = []\n",
    "        for indice,linha in dados_com_classes.iterrows():\n",
    "            lista_g += [self.getG(linha, class_db.loc[indice])]\n",
    "        \n",
    "        matriz_aux_g = np.array(lista_g)\n",
    "        matriz_identidade_g = np.identity(db.shape[0]) * (-1)\n",
    "        DIMENSAO_2 = 2*db.shape[0]\n",
    "        matriz_g = np.zeros((DIMENSAO_2, DIMENSAO))\n",
    "        matriz_g[:db.shape[0],:db.shape[1]+1] = matriz_aux_g + matriz_g[:db.shape[0],:db.shape[1]+1]\n",
    "        matriz_g[:db.shape[0],db.shape[1]+1:] = matriz_identidade_g + matriz_g[:db.shape[0],db.shape[1]+1:]\n",
    "        matriz_g[db.shape[0]:,db.shape[1]+1:] = matriz_identidade_g + matriz_g[db.shape[0]:,db.shape[1]+1:]\n",
    "                   \n",
    "        self.g = matrix(matriz_g, tc=\"d\")\n",
    "                                                                        \n",
    "        matriz_h = np.zeros((DIMENSAO_2,1))\n",
    "        matriz_h[:db.shape[0],:] = np.ones((db.shape[0],1)) * (-1)\n",
    "        self.h = matrix(matriz_h) \n",
    "        \n",
    "    def getG(self,linha, y):\n",
    "        x = np.array(list(linha[:-1]) + [1])\n",
    "        return (x * y).T * -1\n",
    "    \n",
    "    def train(self, db, class_db):\n",
    "        self.initParams(db, class_db)\n",
    "        s = qp(self.p,self.q,self.g, self.h)\n",
    "        self.w = s['x']\n",
    "\n",
    "    def predict(self, linha):\n",
    "        x = np.array(list(linha) + [1])\n",
    "        u = np.dot(x,self.w[:x.shape[0]])\n",
    "        return 1 if u > 0 else -1"
   ]
  },
  {
   "cell_type": "code",
   "execution_count": null,
   "metadata": {
    "scrolled": true,
    "pycharm": {
     "is_executing": false
    }
   },
   "outputs": [],
   "source": [
    "svm = SVMLinear()"
   ]
  },
  {
   "cell_type": "code",
   "execution_count": null,
   "metadata": {
    "pycharm": {
     "is_executing": false
    }
   },
   "outputs": [],
   "source": [
    "test_model(svm, iris_db, species, \"setosa\", [-1,1])"
   ]
  },
  {
   "cell_type": "code",
   "execution_count": 2,
   "metadata": {
    "pycharm": {
     "is_executing": false
    }
   },
   "outputs": [
    {
     "traceback": [
      "\u001b[1;31m---------------------------------------------------------------------------\u001b[0m",
      "\u001b[1;31mNameError\u001b[0m                                 Traceback (most recent call last)",
      "\u001b[1;32m<ipython-input-2-b9931c64fa39>\u001b[0m in \u001b[0;36m<module>\u001b[1;34m\u001b[0m\n\u001b[1;32m----> 1\u001b[1;33m \u001b[0mmetrics\u001b[0m\u001b[1;33m(\u001b[0m\u001b[0msvm\u001b[0m\u001b[1;33m,\u001b[0m \u001b[1;36m20\u001b[0m\u001b[1;33m,\u001b[0m \u001b[0miris_db\u001b[0m\u001b[1;33m,\u001b[0m \u001b[0mspecies\u001b[0m\u001b[1;33m,\u001b[0m \u001b[1;34m\"virginica\"\u001b[0m\u001b[1;33m,\u001b[0m \u001b[1;33m[\u001b[0m\u001b[1;33m-\u001b[0m\u001b[1;36m1\u001b[0m\u001b[1;33m,\u001b[0m\u001b[1;36m1\u001b[0m\u001b[1;33m]\u001b[0m\u001b[1;33m)\u001b[0m\u001b[1;33m\u001b[0m\u001b[1;33m\u001b[0m\u001b[0m\n\u001b[0m\u001b[0;32m      2\u001b[0m \u001b[1;33m\u001b[0m\u001b[0m\n",
      "\u001b[1;31mNameError\u001b[0m: name 'metrics' is not defined"
     ],
     "ename": "NameError",
     "evalue": "name 'metrics' is not defined",
     "output_type": "error"
    }
   ],
   "source": [
    "metrics(svm, 20, iris_db, species, \"virginica\", [-1,1])"
   ]
  },
  {
   "cell_type": "markdown",
   "metadata": {},
   "source": [
    "<h5>Kernel SVM</h5>"
   ]
  },
  {
   "cell_type": "code",
   "execution_count": null,
   "metadata": {
    "pycharm": {
     "is_executing": false
    }
   },
   "outputs": [],
   "source": [
    "class KernelSVM:\n",
    "    __slots__ = ['alfa','p','q','g','h','y', 'x', 'beta']\n",
    "    \n",
    "    def __init__(self):\n",
    "        self.alfa = []\n",
    "        self.p = []\n",
    "        self.q = []\n",
    "        self.g = []\n",
    "        self.h = []\n",
    "        self.x = []\n",
    "        self.y = []\n",
    "        self.beta = 0\n",
    "        \n",
    "    def initParams(self, db, class_db, beta):\n",
    "        self.beta = beta\n",
    "        self.alfa = []\n",
    "        x = np.concatenate((db, np.ones((db.shape[0],1)) ), axis=1)\n",
    "        new_db = pd.DataFrame(x)\n",
    "        self.x = new_db\n",
    "        self.y = class_db\n",
    "        \n",
    "        kernel = []\n",
    "        for indice_i, linha_i in self.x.iterrows():\n",
    "            linha_kernel = []\n",
    "            for indice_j, linha_j in self.x.iterrows():\n",
    "                y_1 = class_db.iloc[indice_i]\n",
    "                y_2 = class_db.iloc[indice_j]\n",
    "                linha_kernel += [self.kernel_rbf(linha_i, linha_j, beta) * y_1 * y_2 ]\n",
    "            kernel += [linha_kernel]\n",
    "        \n",
    "        \n",
    "        matriz_p = np.array(kernel)\n",
    "        self.p = matrix(matriz_p, tc=\"d\")\n",
    "        \n",
    "        matriz_q = np.ones((db.shape[0],1)) * (-1)\n",
    "        self.q = matrix(matriz_q)\n",
    "                   \n",
    "        self.g = matrix(np.identity(db.shape[0]) *(-1), tc=\"d\")\n",
    "                                                                        \n",
    "        matriz_h = np.zeros((db.shape[0],1))\n",
    "        self.h = matrix(matriz_h) \n",
    "    \n",
    "    def kernel_rbf(self, x, z, beta):\n",
    "        return np.exp(-(np.sqrt(np.sum((x-z)**2))/(2*(beta**2))))\n",
    "\n",
    "        \n",
    "    def train(self, db, class_db, beta=1):\n",
    "        self.initParams(db, class_db, beta)\n",
    "        s = qp(self.p,self.q, self.g, self.h)\n",
    "        self.alfa = s['x']\n",
    "\n",
    "    def predict(self, linha):\n",
    "        x = np.array(list(linha) + [1])\n",
    "        lista_kernel = []\n",
    "        for indice, linha in self.x.iterrows():\n",
    "            y = self.y.iloc[indice]\n",
    "            k = self.kernel_rbf(x, linha, self.beta)\n",
    "            lista_kernel += [k * y]\n",
    "            \n",
    "        kernel = np.array(lista_kernel)         \n",
    "        u = np.dot(kernel,self.alfa)\n",
    "        return 1 if u > 0 else -1"
   ]
  },
  {
   "cell_type": "code",
   "execution_count": null,
   "metadata": {
    "pycharm": {
     "is_executing": false
    }
   },
   "outputs": [],
   "source": [
    "ksvm = KernelSVM()"
   ]
  },
  {
   "cell_type": "code",
   "execution_count": null,
   "metadata": {
    "pycharm": {
     "is_executing": false
    }
   },
   "outputs": [],
   "source": [
    "test_model(ksvm, iris_db, species, \"setosa\", [-1,1])"
   ]
  },
  {
   "cell_type": "code",
   "execution_count": null,
   "metadata": {
    "pycharm": {
     "is_executing": false
    }
   },
   "outputs": [],
   "source": [
    "metrics(ksvm, 20, iris_db, species, \"setosa\", [-1,1])"
   ]
  },
  {
   "cell_type": "markdown",
   "metadata": {},
   "source": [
    "<h3 style=\"text-align:center;\">Modelos de Regressão</h3>"
   ]
  },
  {
   "cell_type": "code",
   "execution_count": null,
   "metadata": {
    "pycharm": {
     "is_executing": false
    }
   },
   "outputs": [],
   "source": [
    "def test_model_regressao(modelo, db, class_db):\n",
    "    train_x, test_x, train_y, test_y = train_test(db, class_db)\n",
    "    modelo.train(train_x,train_y)\n",
    "    teste_1 = modelo.predict(db.loc[0])\n",
    "    teste_2 = modelo.predict(db.loc[30])\n",
    "    teste_3 = modelo.predict(db.loc[90])\n",
    "    return \"dado de indice 0 = {}, 30 = {}, valor da 90 = {}\".format(teste_1,teste_2,teste_3)"
   ]
  },
  {
   "cell_type": "code",
   "execution_count": null,
   "metadata": {
    "pycharm": {
     "is_executing": false
    }
   },
   "outputs": [],
   "source": [
    "def gerarGrafico(modelo_1, modelo_2, db, class_db):\n",
    "    train_x, test_x, train_y, test_y = train_test(db, class_db)\n",
    "    modelo_1.train(train_x,train_y)\n",
    "    modelo_2.train(train_x,train_y)\n",
    "    # Configurações do gráfico\n",
    "    plt.figure(figsize=(8,4))\n",
    "    plt.xlabel('x')\n",
    "    plt.ylabel('y')\n",
    "    plt.title('Função geradora x Funções encontradas pelos modelos')\n",
    "    # Plotar função gerado\n",
    "    plt.scatter(db,class_db, c=\"#ff0000\")\n",
    "    for indice, linha in db.iterrows():\n",
    "        y_1 = modelo_1.predict(linha)\n",
    "        # Plotar função obtido do modelo 1\n",
    "        plt.scatter(linha,y_1,c=\"#00ff00\")\n",
    "        y_2 = modelo_2.predict(linha)\n",
    "        # Plotar função obtido do modelo 2\n",
    "        plt.scatter(linha,y_2,c=\"#0000ff\")\n",
    "    plt.legend([\"Função geradora\", \"Regressão linear\", \"Regressão Linear com Kernel RBF\"], loc=2)\n",
    "    plt.savefig(\"Grafico_das_funcoes_encontradas.png\")"
   ]
  },
  {
   "cell_type": "markdown",
   "metadata": {},
   "source": [
    "<h5>Obtendo dados</h5>\n",
    "\n",
    "A função para obter a base de dados: f(x) = 5x + 3 + ruido"
   ]
  },
  {
   "cell_type": "code",
   "execution_count": null,
   "metadata": {
    "pycharm": {
     "is_executing": false
    }
   },
   "outputs": [],
   "source": [
    "def funcao_regressao(x):\n",
    "    return 10*x**2 + 5 + np.random.random()"
   ]
  },
  {
   "cell_type": "code",
   "execution_count": null,
   "metadata": {
    "pycharm": {
     "is_executing": false
    }
   },
   "outputs": [],
   "source": [
    "regressao_class = pd.Series([funcao_regressao(x) for x in np.arange(0.0, 1.0, 0.01)])\n",
    "regressao_class.loc[90]"
   ]
  },
  {
   "cell_type": "code",
   "execution_count": null,
   "metadata": {
    "pycharm": {
     "is_executing": false
    }
   },
   "outputs": [],
   "source": [
    "regressao_db = pd.DataFrame(np.arange(0.0, 1.0,0.01), columns=[\"x1\"])\n",
    "regressao_db.head()"
   ]
  },
  {
   "cell_type": "code",
   "execution_count": null,
   "metadata": {
    "pycharm": {
     "is_executing": false
    }
   },
   "outputs": [],
   "source": [
    "plt.figure(figsize=(8,4))\n",
    "plt.xlabel('x')\n",
    "plt.ylabel('y')\n",
    "plt.title('Função geradora f(x)=10*x**2 + 5 + ruido')\n",
    "# Plotar função geradora\n",
    "plt.scatter(regressao_db,regressao_class, c=\"#ff0000\")"
   ]
  },
  {
   "cell_type": "markdown",
   "metadata": {},
   "source": [
    "<h5>Regressão Linear</h5>"
   ]
  },
  {
   "cell_type": "code",
   "execution_count": null,
   "metadata": {
    "pycharm": {
     "is_executing": false
    }
   },
   "outputs": [],
   "source": [
    "class RegressaoLinear:\n",
    "    __slots__ = ['w']\n",
    "    \n",
    "    def __init__(self):\n",
    "        self.w = []\n",
    "    \n",
    "    def train(self, db, class_db, epocas=100,taxa_de_aprendizagem=0.01):\n",
    "        self.w = np.random.random((1,db.shape[1] + 1))\n",
    "        \n",
    "        x = np.concatenate((db, np.ones((db.shape[0],1)) ), axis=1)\n",
    "        new_db = pd.DataFrame(x)\n",
    "        new_db.index = db.index\n",
    "        matriz_inverse = np.linalg.inv(np.dot(new_db.T,new_db))\n",
    "        x_T_y = np.dot(new_db.T , class_db)\n",
    "        self.w = np.dot(matriz_inverse, x_T_y)\n",
    "        \n",
    "    def predict(self, linha):\n",
    "        x = np.array(list(linha) + [1])\n",
    "        return np.dot(x,self.w.T)"
   ]
  },
  {
   "cell_type": "code",
   "execution_count": null,
   "metadata": {
    "pycharm": {
     "is_executing": false
    }
   },
   "outputs": [],
   "source": [
    "rl = RegressaoLinear()"
   ]
  },
  {
   "cell_type": "code",
   "execution_count": null,
   "metadata": {
    "scrolled": true,
    "pycharm": {
     "is_executing": false
    }
   },
   "outputs": [],
   "source": [
    "test_model_regressao(rl, regressao_db, regressao_class)"
   ]
  },
  {
   "cell_type": "markdown",
   "metadata": {},
   "source": [
    "*implementar metrica para regressão*"
   ]
  },
  {
   "cell_type": "markdown",
   "metadata": {},
   "source": [
    "<h5>Regressão Linear com Kernel</h5>"
   ]
  },
  {
   "cell_type": "code",
   "execution_count": null,
   "metadata": {
    "pycharm": {
     "is_executing": false
    }
   },
   "outputs": [],
   "source": [
    "class RegressaoLinearKernel:\n",
    "    __slots__ = ['w','x_train', 'alfa']\n",
    "    \n",
    "    def __init__(self):\n",
    "        self.w = []\n",
    "        self.x_train = []\n",
    "        self.alfa = []\n",
    "    \n",
    "    def train(self, db, class_db, epocas=100,taxa_de_aprendizagem=0.01, alfa=1):\n",
    "        self.w = np.random.random((1,db.shape[1] + 1))\n",
    "        self.alfa = alfa\n",
    "        \n",
    "        x = np.concatenate((db, np.ones((db.shape[0],1)) ), axis=1)\n",
    "        new_db = pd.DataFrame(x)\n",
    "        self.x_train = new_db\n",
    "        kernel = []\n",
    "        for i in range(new_db.shape[0]):\n",
    "            linha_k = []\n",
    "            for j in range(new_db.shape[0]):\n",
    "                linha_k += [self.kernel_rbf(new_db.iloc[i], new_db.iloc[j], self.alfa)]\n",
    "            kernel += [linha_k]\n",
    "        \n",
    "        matriz_kernel = np.array(kernel)\n",
    "        \n",
    "        matriz_inverse = np.linalg.inv(matriz_kernel)\n",
    "        self.w = np.dot(matriz_inverse, class_db)\n",
    "        \n",
    "    def kernel_rbf(self,x,z,alfa):\n",
    "        return np.exp(-(np.sqrt(np.sum((x-z)**2))/(2*(alfa**2))))\n",
    "    \n",
    "    def predict(self, linha):\n",
    "        x = np.array(list(linha) + [1])\n",
    "        linha_kernel = []\n",
    "        for i in range(self.x_train.shape[0]):\n",
    "            linha_kernel += [self.kernel_rbf(x,self.x_train.iloc[i], self.alfa)]\n",
    "        \n",
    "        kernel = np.array(linha_kernel)\n",
    "        \n",
    "        return np.dot(kernel,self.w.T)"
   ]
  },
  {
   "cell_type": "code",
   "execution_count": null,
   "metadata": {
    "pycharm": {
     "is_executing": false
    }
   },
   "outputs": [],
   "source": [
    "rlk = RegressaoLinearKernel()"
   ]
  },
  {
   "cell_type": "code",
   "execution_count": null,
   "metadata": {
    "pycharm": {
     "is_executing": false
    }
   },
   "outputs": [],
   "source": [
    "test_model_regressao(rlk, regressao_db, regressao_class)"
   ]
  },
  {
   "cell_type": "markdown",
   "metadata": {},
   "source": [
    "Implementar o gráfico com a função geradora e as funções encontradas"
   ]
  },
  {
   "cell_type": "code",
   "execution_count": null,
   "metadata": {
    "pycharm": {
     "is_executing": false
    }
   },
   "outputs": [],
   "source": [
    "gerarGrafico(rl,rlk,regressao_db,regressao_class)"
   ]
  }
 ],
 "metadata": {
  "kernelspec": {
   "display_name": "Python 3",
   "language": "python",
   "name": "python3"
  },
  "language_info": {
   "codemirror_mode": {
    "name": "ipython",
    "version": 3
   },
   "file_extension": ".py",
   "mimetype": "text/x-python",
   "name": "python",
   "nbconvert_exporter": "python",
   "pygments_lexer": "ipython3",
   "version": "3.6.9"
  }
 },
 "nbformat": 4,
 "nbformat_minor": 4
}